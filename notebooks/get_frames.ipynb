{
 "cells": [
  {
   "cell_type": "code",
   "execution_count": 1,
   "id": "63665e26",
   "metadata": {},
   "outputs": [],
   "source": [
    "import keras\n",
    "from keras.models import Sequential\n",
    "from keras.applications.vgg16 import VGG16\n",
    "from keras.layers import Dense, InputLayer, Dropout, Flatten\n",
    "from keras.layers import Conv2D, MaxPooling2D, GlobalMaxPooling2D\n",
    "import numpy as np\n",
    "import pandas as pd\n",
    "import matplotlib.pyplot as plt\n",
    "from tqdm import tqdm\n",
    "from sklearn.model_selection import train_test_split\n",
    "import sys\n",
    "import gc\n",
    "from keras.preprocessing import image\n",
    "import os\n",
    "import h5py\n",
    "import cv2\n",
    "import datetime as dt\n",
    "from numba import jit\n",
    "import math   \n",
    "from glob import glob"
   ]
  },
  {
   "cell_type": "code",
   "execution_count": 3,
   "id": "4676d5c0",
   "metadata": {},
   "outputs": [],
   "source": [
    "df = pd.DataFrame()\n",
    "vid = []\n",
    "label = []\n",
    "for folder in os.listdir('../data'):\n",
    "    for file in os.listdir('../data/' + folder):\n",
    "        label.append(folder)\n",
    "        vid.append(file)\n",
    "df['video'] = vid\n",
    "df['label'] = label"
   ]
  },
  {
   "cell_type": "code",
   "execution_count": 4,
   "id": "9bc15aad",
   "metadata": {},
   "outputs": [
    {
     "data": {
      "text/html": [
       "<div>\n",
       "<style scoped>\n",
       "    .dataframe tbody tr th:only-of-type {\n",
       "        vertical-align: middle;\n",
       "    }\n",
       "\n",
       "    .dataframe tbody tr th {\n",
       "        vertical-align: top;\n",
       "    }\n",
       "\n",
       "    .dataframe thead th {\n",
       "        text-align: right;\n",
       "    }\n",
       "</style>\n",
       "<table border=\"1\" class=\"dataframe\">\n",
       "  <thead>\n",
       "    <tr style=\"text-align: right;\">\n",
       "      <th></th>\n",
       "      <th>video</th>\n",
       "      <th>label</th>\n",
       "    </tr>\n",
       "  </thead>\n",
       "  <tbody>\n",
       "    <tr>\n",
       "      <th>0</th>\n",
       "      <td>Appelvink_Man_0.mp4</td>\n",
       "      <td>Appelvink_Man</td>\n",
       "    </tr>\n",
       "    <tr>\n",
       "      <th>1</th>\n",
       "      <td>Appelvink_Man_1.mp4</td>\n",
       "      <td>Appelvink_Man</td>\n",
       "    </tr>\n",
       "    <tr>\n",
       "      <th>2</th>\n",
       "      <td>Appelvink_Man_2.mp4</td>\n",
       "      <td>Appelvink_Man</td>\n",
       "    </tr>\n",
       "    <tr>\n",
       "      <th>3</th>\n",
       "      <td>Appelvink_Man_3.mp4</td>\n",
       "      <td>Appelvink_Man</td>\n",
       "    </tr>\n",
       "    <tr>\n",
       "      <th>4</th>\n",
       "      <td>Appelvink_Vrouw_0.mp4</td>\n",
       "      <td>Appelvink_Vrouw</td>\n",
       "    </tr>\n",
       "    <tr>\n",
       "      <th>...</th>\n",
       "      <td>...</td>\n",
       "      <td>...</td>\n",
       "    </tr>\n",
       "    <tr>\n",
       "      <th>153</th>\n",
       "      <td>Zwartkop_Vrouw_0.mp4</td>\n",
       "      <td>Zwartkop_Vrouw</td>\n",
       "    </tr>\n",
       "    <tr>\n",
       "      <th>154</th>\n",
       "      <td>Zwartkop_Vrouw_1.mp4</td>\n",
       "      <td>Zwartkop_Vrouw</td>\n",
       "    </tr>\n",
       "    <tr>\n",
       "      <th>155</th>\n",
       "      <td>Zwartkop_Vrouw_2.mp4</td>\n",
       "      <td>Zwartkop_Vrouw</td>\n",
       "    </tr>\n",
       "    <tr>\n",
       "      <th>156</th>\n",
       "      <td>Zwartkop_Vrouw_3.mp4</td>\n",
       "      <td>Zwartkop_Vrouw</td>\n",
       "    </tr>\n",
       "    <tr>\n",
       "      <th>157</th>\n",
       "      <td>Zwartkop_Vrouw_4.mp4</td>\n",
       "      <td>Zwartkop_Vrouw</td>\n",
       "    </tr>\n",
       "  </tbody>\n",
       "</table>\n",
       "<p>158 rows × 2 columns</p>\n",
       "</div>"
      ],
      "text/plain": [
       "                     video            label\n",
       "0      Appelvink_Man_0.mp4    Appelvink_Man\n",
       "1      Appelvink_Man_1.mp4    Appelvink_Man\n",
       "2      Appelvink_Man_2.mp4    Appelvink_Man\n",
       "3      Appelvink_Man_3.mp4    Appelvink_Man\n",
       "4    Appelvink_Vrouw_0.mp4  Appelvink_Vrouw\n",
       "..                     ...              ...\n",
       "153   Zwartkop_Vrouw_0.mp4   Zwartkop_Vrouw\n",
       "154   Zwartkop_Vrouw_1.mp4   Zwartkop_Vrouw\n",
       "155   Zwartkop_Vrouw_2.mp4   Zwartkop_Vrouw\n",
       "156   Zwartkop_Vrouw_3.mp4   Zwartkop_Vrouw\n",
       "157   Zwartkop_Vrouw_4.mp4   Zwartkop_Vrouw\n",
       "\n",
       "[158 rows x 2 columns]"
      ]
     },
     "execution_count": 4,
     "metadata": {},
     "output_type": "execute_result"
    }
   ],
   "source": [
    "df"
   ]
  },
  {
   "cell_type": "code",
   "execution_count": 5,
   "id": "bd437057",
   "metadata": {},
   "outputs": [],
   "source": [
    "train = df['video']"
   ]
  },
  {
   "cell_type": "code",
   "execution_count": 9,
   "id": "5e4b5a90",
   "metadata": {},
   "outputs": [
    {
     "name": "stderr",
     "output_type": "stream",
     "text": [
      "100%|██████████| 158/158 [11:41<00:00,  4.44s/it]\n"
     ]
    }
   ],
   "source": [
    "for i in tqdm(range(train.shape[0])):\n",
    "    if not os.path.exists('../training/'+ df['label'][i]):\n",
    "        os.makedirs('../training/'+ df['label'][i])\n",
    "    count = 0\n",
    "    videoFile = train[i]\n",
    "    cap = cv2.VideoCapture('../data2/'+videoFile)   # capturing the video from the given path\n",
    "    frameRate = cap.get(5) #frame rate\n",
    "    while(cap.isOpened()):\n",
    "        frameId = cap.get(1) #current frame number\n",
    "        ret, frame = cap.read()\n",
    "        if (ret != True):\n",
    "            break\n",
    "        if (frameId % math.floor(frameRate) == 0):\n",
    "            # storing the frames in a new folder named train_1\n",
    "            filename ='../training/'+ df['label'][i] +'/'+ videoFile.split('.')[0]+\"_frame%d.jpg\" % count;count+=1\n",
    "            cv2.imwrite(filename, frame)\n",
    "    cap.release()"
   ]
  },
  {
   "cell_type": "code",
   "execution_count": 10,
   "id": "418af7b9",
   "metadata": {},
   "outputs": [],
   "source": [
    "train_image = []\n",
    "train_class = []\n",
    "for folder in os.listdir('../training'):\n",
    "    for pic in os.listdir('../training/'+ folder):\n",
    "        train_image.append(pic)\n",
    "        train_class.append(folder)\n",
    "    \n",
    "    \n",
    "# storing the images and their class in a dataframe\n",
    "train_data = pd.DataFrame()\n",
    "train_data['image'] = train_image\n",
    "train_data['class'] = train_class\n",
    "\n",
    "# converting the dataframe into csv file \n",
    "train_data.to_csv('../train_new.csv',header=True, index=False)"
   ]
  },
  {
   "cell_type": "code",
   "execution_count": null,
   "id": "994d3906",
   "metadata": {},
   "outputs": [],
   "source": []
  }
 ],
 "metadata": {
  "kernelspec": {
   "display_name": "Python 3 (ipykernel)",
   "language": "python",
   "name": "python3"
  },
  "language_info": {
   "codemirror_mode": {
    "name": "ipython",
    "version": 3
   },
   "file_extension": ".py",
   "mimetype": "text/x-python",
   "name": "python",
   "nbconvert_exporter": "python",
   "pygments_lexer": "ipython3",
   "version": "3.9.6"
  }
 },
 "nbformat": 4,
 "nbformat_minor": 5
}