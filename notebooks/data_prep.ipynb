{
 "cells": [
  {
   "cell_type": "markdown",
   "metadata": {
    "collapsed": true,
    "pycharm": {
     "name": "#%% md\n"
    }
   },
   "source": [
    "import packages"
   ]
  },
  {
   "cell_type": "code",
   "execution_count": 2,
   "metadata": {
    "pycharm": {
     "name": "#%%\n"
    }
   },
   "outputs": [],
   "source": [
    "import keras\n",
    "from keras.models import Sequential\n",
    "from keras.applications.vgg16 import VGG16\n",
    "from keras.layers import Dense, InputLayer, Dropout, Flatten\n",
    "from keras.layers import Conv2D, MaxPooling2D, GlobalMaxPooling2D\n",
    "from keras.preprocessing import image\n",
    "import numpy as np\n",
    "import pandas as pd\n",
    "import matplotlib.pyplot as plt\n",
    "from tqdm import tqdm\n",
    "from sklearn.model_selection import train_test_split\n",
    "import sys\n",
    "import gc"
   ]
  },
  {
   "cell_type": "code",
   "execution_count": 3,
   "metadata": {
    "pycharm": {
     "name": "#%%\n"
    }
   },
   "outputs": [
    {
     "data": {
      "text/html": [
       "<div>\n",
       "<style scoped>\n",
       "    .dataframe tbody tr th:only-of-type {\n",
       "        vertical-align: middle;\n",
       "    }\n",
       "\n",
       "    .dataframe tbody tr th {\n",
       "        vertical-align: top;\n",
       "    }\n",
       "\n",
       "    .dataframe thead th {\n",
       "        text-align: right;\n",
       "    }\n",
       "</style>\n",
       "<table border=\"1\" class=\"dataframe\">\n",
       "  <thead>\n",
       "    <tr style=\"text-align: right;\">\n",
       "      <th></th>\n",
       "      <th>image</th>\n",
       "      <th>class</th>\n",
       "    </tr>\n",
       "  </thead>\n",
       "  <tbody>\n",
       "    <tr>\n",
       "      <th>0</th>\n",
       "      <td>Acorn_Woodpecker_00002_frame_0.jpg</td>\n",
       "      <td>Acorn_Woodpecker</td>\n",
       "    </tr>\n",
       "    <tr>\n",
       "      <th>1</th>\n",
       "      <td>Acorn_Woodpecker_00002_frame_1.jpg</td>\n",
       "      <td>Acorn_Woodpecker</td>\n",
       "    </tr>\n",
       "    <tr>\n",
       "      <th>2</th>\n",
       "      <td>Acorn_Woodpecker_00002_frame_10.jpg</td>\n",
       "      <td>Acorn_Woodpecker</td>\n",
       "    </tr>\n",
       "    <tr>\n",
       "      <th>3</th>\n",
       "      <td>Acorn_Woodpecker_00002_frame_100.jpg</td>\n",
       "      <td>Acorn_Woodpecker</td>\n",
       "    </tr>\n",
       "    <tr>\n",
       "      <th>4</th>\n",
       "      <td>Acorn_Woodpecker_00002_frame_101.jpg</td>\n",
       "      <td>Acorn_Woodpecker</td>\n",
       "    </tr>\n",
       "  </tbody>\n",
       "</table>\n",
       "</div>"
      ],
      "text/plain": [
       "                                  image             class\n",
       "0    Acorn_Woodpecker_00002_frame_0.jpg  Acorn_Woodpecker\n",
       "1    Acorn_Woodpecker_00002_frame_1.jpg  Acorn_Woodpecker\n",
       "2   Acorn_Woodpecker_00002_frame_10.jpg  Acorn_Woodpecker\n",
       "3  Acorn_Woodpecker_00002_frame_100.jpg  Acorn_Woodpecker\n",
       "4  Acorn_Woodpecker_00002_frame_101.jpg  Acorn_Woodpecker"
      ]
     },
     "execution_count": 3,
     "metadata": {},
     "output_type": "execute_result"
    }
   ],
   "source": [
    "train = pd.read_csv('../train.csv')\n",
    "train.head()"
   ]
  },
  {
   "cell_type": "code",
   "execution_count": 4,
   "metadata": {},
   "outputs": [
    {
     "data": {
      "text/plain": [
       "array([[[0.11764706, 0.08235294, 0.08627451],\n",
       "        [0.13333334, 0.09803922, 0.10196079],\n",
       "        [0.13333334, 0.09803922, 0.10980392],\n",
       "        ...,\n",
       "        [0.26666668, 0.26666668, 0.22745098],\n",
       "        [0.20784314, 0.20784314, 0.16078432],\n",
       "        [0.16862746, 0.17254902, 0.11764706]],\n",
       "\n",
       "       [[0.1254902 , 0.09019608, 0.10196079],\n",
       "        [0.12941177, 0.09411765, 0.10588235],\n",
       "        [0.12941177, 0.09411765, 0.10588235],\n",
       "        ...,\n",
       "        [0.30980393, 0.30980393, 0.27058825],\n",
       "        [0.2627451 , 0.2627451 , 0.21568628],\n",
       "        [0.2       , 0.20392157, 0.14901961]],\n",
       "\n",
       "       [[0.19607843, 0.16078432, 0.18039216],\n",
       "        [0.17254902, 0.13725491, 0.15686275],\n",
       "        [0.13725491, 0.10196079, 0.12156863],\n",
       "        ...,\n",
       "        [0.3764706 , 0.38431373, 0.34117648],\n",
       "        [0.34901962, 0.34901962, 0.3019608 ],\n",
       "        [0.23921569, 0.23921569, 0.19215687]],\n",
       "\n",
       "       ...,\n",
       "\n",
       "       [[0.20784314, 0.19215687, 0.14509805],\n",
       "        [0.23137255, 0.22352941, 0.17254902],\n",
       "        [0.25882354, 0.24313726, 0.19607843],\n",
       "        ...,\n",
       "        [0.2627451 , 0.27058825, 0.1882353 ],\n",
       "        [0.24313726, 0.24313726, 0.19607843],\n",
       "        [0.20392157, 0.20392157, 0.16470589]],\n",
       "\n",
       "       [[0.21960784, 0.21176471, 0.16078432],\n",
       "        [0.22745098, 0.23137255, 0.1764706 ],\n",
       "        [0.2509804 , 0.24313726, 0.19215687],\n",
       "        ...,\n",
       "        [0.23529412, 0.23137255, 0.15294118],\n",
       "        [0.22352941, 0.21568628, 0.16862746],\n",
       "        [0.22352941, 0.21176471, 0.1764706 ]],\n",
       "\n",
       "       [[0.23529412, 0.23921569, 0.18431373],\n",
       "        [0.23137255, 0.23529412, 0.18039216],\n",
       "        [0.23137255, 0.23529412, 0.18039216],\n",
       "        ...,\n",
       "        [0.23137255, 0.21960784, 0.14509805],\n",
       "        [0.23921569, 0.23137255, 0.18431373],\n",
       "        [0.25490198, 0.24313726, 0.20784314]]], dtype=float32)"
      ]
     },
     "execution_count": 4,
     "metadata": {},
     "output_type": "execute_result"
    }
   ],
   "source": [
    "new_dat = pd.DataFrame()\n",
    "train_image = []\n",
    "train_tags = []\n",
    "\n",
    "# for i in tqdm(range(10001, 20000)):\n",
    "#     img = image.load_img('../training_images/'+train['image'][i])\n",
    "#     img = image.img_to_array(img)\n",
    "#     img = img/255\n",
    "#     train_image.append(img)\n",
    "#     train_tags.append(train[\"class\"][i])\n",
    "\n",
    "img = image.load_img('../training_images/'+train['image'][100000])\n",
    "img = image.img_to_array(img)\n",
    "img = img/255\n",
    "img\n",
    "X = np.array(img)\n",
    "X\n",
    "# X = np.array(train_image, dtype=object)\n",
    "\n",
    "# new_dat[\"image\"] = train_image\n",
    "# new_dat[\"class\"] = train_tags\n",
    "# new_dat.to_csv(\"../train_images2.csv\", header=True, index=False)"
   ]
  },
  {
   "cell_type": "code",
   "execution_count": null,
   "metadata": {},
   "outputs": [],
   "source": []
  }
 ],
 "metadata": {
  "kernelspec": {
   "display_name": "Python 3 (ipykernel)",
   "language": "python",
   "name": "python3"
  },
  "language_info": {
   "codemirror_mode": {
    "name": "ipython",
    "version": 3
   },
   "file_extension": ".py",
   "mimetype": "text/x-python",
   "name": "python",
   "nbconvert_exporter": "python",
   "pygments_lexer": "ipython3",
   "version": "3.9.6"
  }
 },
 "nbformat": 4,
 "nbformat_minor": 1
}