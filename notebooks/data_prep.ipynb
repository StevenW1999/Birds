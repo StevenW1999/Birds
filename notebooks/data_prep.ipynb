{
 "cells": [
  {
   "cell_type": "markdown",
   "metadata": {
    "collapsed": true,
    "pycharm": {
     "name": "#%% md\n"
    }
   },
   "source": [
    "import packages"
   ]
  },
  {
   "cell_type": "code",
   "execution_count": 7,
   "metadata": {
    "pycharm": {
     "is_executing": true,
     "name": "#%%\n"
    }
   },
   "outputs": [],
   "source": [
    "import cv2     # for capturing videos\n",
    "import math   # for mathematical operations\n",
    "import matplotlib.pyplot as plt    # for plotting the images\n",
    "%matplotlib inline\n",
    "import pandas as pd\n",
    "from keras.preprocessing import image   # for preprocessing the images\n",
    "import numpy as np    # for mathematical operations\n",
    "from keras.utils import np_utils\n",
    "from skimage.transform import resize   # for resizing images\n",
    "from sklearn.model_selection import train_test_split\n",
    "from glob import glob\n",
    "from tqdm import tqdm\n",
    "import os\n",
    "import random\n",
    "import itertools"
   ]
  },
  {
   "cell_type": "code",
   "execution_count": null,
   "metadata": {
    "pycharm": {
     "is_executing": true,
     "name": "#%%\n"
    }
   },
   "outputs": [],
   "source": []
  },
  {
   "cell_type": "code",
   "execution_count": 19,
   "metadata": {
    "pycharm": {
     "is_executing": true
    }
   },
   "outputs": [
    {
     "data": {
      "text/html": [
       "<div>\n",
       "<style scoped>\n",
       "    .dataframe tbody tr th:only-of-type {\n",
       "        vertical-align: middle;\n",
       "    }\n",
       "\n",
       "    .dataframe tbody tr th {\n",
       "        vertical-align: top;\n",
       "    }\n",
       "\n",
       "    .dataframe thead th {\n",
       "        text-align: right;\n",
       "    }\n",
       "</style>\n",
       "<table border=\"1\" class=\"dataframe\">\n",
       "  <thead>\n",
       "    <tr style=\"text-align: right;\">\n",
       "      <th></th>\n",
       "      <th>name</th>\n",
       "      <th>class</th>\n",
       "    </tr>\n",
       "  </thead>\n",
       "  <tbody>\n",
       "    <tr>\n",
       "      <th>0</th>\n",
       "      <td>11    Acorn_Woodpecker_00006.mp4\n",
       "9     Acorn_W...</td>\n",
       "      <td>11    Acorn_Woodpecker\n",
       "9     Acorn_Woodpecker\n",
       "...</td>\n",
       "    </tr>\n",
       "    <tr>\n",
       "      <th>1</th>\n",
       "      <td>0     Allen_Hummingbird_00001.mp4\n",
       "1     Allen_...</td>\n",
       "      <td>0     Allen_Hummingbird\n",
       "1     Allen_Hummingbir...</td>\n",
       "    </tr>\n",
       "    <tr>\n",
       "      <th>2</th>\n",
       "      <td>0     American_Avocet_00001.mp4\n",
       "1     American...</td>\n",
       "      <td>0     American_Avocet\n",
       "1     American_Avocet\n",
       "5 ...</td>\n",
       "    </tr>\n",
       "    <tr>\n",
       "      <th>3</th>\n",
       "      <td>9     American_Black_Oystercatcher_00015.mp4\n",
       "1...</td>\n",
       "      <td>9     American_Black_Oystercatcher\n",
       "11    Ameri...</td>\n",
       "    </tr>\n",
       "    <tr>\n",
       "      <th>4</th>\n",
       "      <td>10    American_Purple_Gallinule_00003.mp4\n",
       "9   ...</td>\n",
       "      <td>10    American_Purple_Gallinule\n",
       "9     American...</td>\n",
       "    </tr>\n",
       "    <tr>\n",
       "      <th>...</th>\n",
       "      <td>...</td>\n",
       "      <td>...</td>\n",
       "    </tr>\n",
       "    <tr>\n",
       "      <th>95</th>\n",
       "      <td>0     White-faced_Ibis_00001.mp4\n",
       "1     White-f...</td>\n",
       "      <td>0     White-faced_Ibis\n",
       "1     White-faced_Ibis\n",
       "...</td>\n",
       "    </tr>\n",
       "    <tr>\n",
       "      <th>96</th>\n",
       "      <td>5     White-rumped_Sandpiper_00001.mp4\n",
       "0     W...</td>\n",
       "      <td>5     White-rumped_Sandpiper\n",
       "0     White-rumpe...</td>\n",
       "    </tr>\n",
       "    <tr>\n",
       "      <th>97</th>\n",
       "      <td>9     White_headed_Woodpecker_00012.mp4\n",
       "11    ...</td>\n",
       "      <td>9     White_headed_Woodpecker\n",
       "11    White_head...</td>\n",
       "    </tr>\n",
       "    <tr>\n",
       "      <th>98</th>\n",
       "      <td>0     Willet_00001.mp4\n",
       "17    Willet_00009.mp4\n",
       "...</td>\n",
       "      <td>0     Willet\n",
       "17    Willet\n",
       "15    Willet\n",
       "1     W...</td>\n",
       "    </tr>\n",
       "    <tr>\n",
       "      <th>99</th>\n",
       "      <td>0     Wilson_Phalarope_00001.mp4\n",
       "1     Wilson_...</td>\n",
       "      <td>0     Wilson_Phalarope\n",
       "1     Wilson_Phalarope\n",
       "...</td>\n",
       "    </tr>\n",
       "  </tbody>\n",
       "</table>\n",
       "<p>100 rows × 2 columns</p>\n",
       "</div>"
      ],
      "text/plain": [
       "                                                 name  \\\n",
       "0   11    Acorn_Woodpecker_00006.mp4\n",
       "9     Acorn_W...   \n",
       "1   0     Allen_Hummingbird_00001.mp4\n",
       "1     Allen_...   \n",
       "2   0     American_Avocet_00001.mp4\n",
       "1     American...   \n",
       "3   9     American_Black_Oystercatcher_00015.mp4\n",
       "1...   \n",
       "4   10    American_Purple_Gallinule_00003.mp4\n",
       "9   ...   \n",
       "..                                                ...   \n",
       "95  0     White-faced_Ibis_00001.mp4\n",
       "1     White-f...   \n",
       "96  5     White-rumped_Sandpiper_00001.mp4\n",
       "0     W...   \n",
       "97  9     White_headed_Woodpecker_00012.mp4\n",
       "11    ...   \n",
       "98  0     Willet_00001.mp4\n",
       "17    Willet_00009.mp4\n",
       "...   \n",
       "99  0     Wilson_Phalarope_00001.mp4\n",
       "1     Wilson_...   \n",
       "\n",
       "                                                class  \n",
       "0   11    Acorn_Woodpecker\n",
       "9     Acorn_Woodpecker\n",
       "...  \n",
       "1   0     Allen_Hummingbird\n",
       "1     Allen_Hummingbir...  \n",
       "2   0     American_Avocet\n",
       "1     American_Avocet\n",
       "5 ...  \n",
       "3   9     American_Black_Oystercatcher\n",
       "11    Ameri...  \n",
       "4   10    American_Purple_Gallinule\n",
       "9     American...  \n",
       "..                                                ...  \n",
       "95  0     White-faced_Ibis\n",
       "1     White-faced_Ibis\n",
       "...  \n",
       "96  5     White-rumped_Sandpiper\n",
       "0     White-rumpe...  \n",
       "97  9     White_headed_Woodpecker\n",
       "11    White_head...  \n",
       "98  0     Willet\n",
       "17    Willet\n",
       "15    Willet\n",
       "1     W...  \n",
       "99  0     Wilson_Phalarope\n",
       "1     Wilson_Phalarope\n",
       "...  \n",
       "\n",
       "[100 rows x 2 columns]"
      ]
     },
     "execution_count": 19,
     "metadata": {},
     "output_type": "execute_result"
    }
   ],
   "source": [
    "files = os.listdir(\"../data/\")\n",
    "training = pd.DataFrame()\n",
    "test = pd.DataFrame()\n",
    "training_list = []\n",
    "test_list = []\n",
    "training_tags = []\n",
    "test_tags = []\n",
    "for f in files:\n",
    "    temp = pd.DataFrame()\n",
    "    temp_l = []\n",
    "    temp_l_c = []\n",
    "    dir = os.listdir(\"../data/\" + f)\n",
    "    for dir_f in dir:\n",
    "        random.shuffle(dir)\n",
    "        temp_l.append(dir_f)\n",
    "        temp_l_c.append(f)\n",
    "    temp[\"name\"] = temp_l\n",
    "    temp[\"class\"] = temp_l_c\n",
    "    X = temp[\"name\"]\n",
    "    y = temp[\"class\"]\n",
    "    X_train, X_test, y_train, y_test = train_test_split(X, y, test_size=0.33, random_state=42)\n",
    "    training_list.append(X_train)\n",
    "    training_tags.append(y_train)\n",
    "    test_list.append(X_test)\n",
    "    test_tags.append(y_test)\n",
    "\n",
    "training[\"name\"] = training_list\n",
    "training[\"class\"] = training_tags\n",
    "test[\"name\"] = test_list\n",
    "test[\"class\"] = test_tags\n",
    "\n",
    "\n"
   ]
  },
  {
   "cell_type": "code",
   "execution_count": 13,
   "metadata": {
    "pycharm": {
     "is_executing": true
    }
   },
   "outputs": [],
   "source": [
    "X = dat['name']\n",
    "y = dat['class']\n",
    "\n",
    "X_train, X_test, y_train, y_test = train_test_split(X, y, test_size=0.33, random_state=42)\n",
    "\n",
    "training = pd.DataFrame()\n",
    "test = pd.DataFrame()\n",
    "training['name'] = X_train\n",
    "training['class'] = y_train\n",
    "test['name'] = X_test\n",
    "test['class'] = y_test\n",
    "\n",
    "training = training.reset_index(drop=True)\n",
    "test = test.reset_index(drop=True)\n"
   ]
  },
  {
   "cell_type": "code",
   "execution_count": null,
   "metadata": {
    "pycharm": {
     "is_executing": true
    }
   },
   "outputs": [],
   "source": [
    "path = 'data_1/'\n",
    "for i in range(training.shape[0]):\n",
    "    x = 0\n",
    "    video = training[\"name\"][i]\n",
    "    cl = training[\"class\"][i]\n",
    "    cap = cv2.VideoCapture(\"data/\" + cl + \"/\" + video)\n",
    "\n",
    "    ret, frame = cap.read()\n",
    "    while ret:\n",
    "\n",
    "        filename = video.split(\".\")[0] + \"_frame_\" + str(x) + '.jpg'\n",
    "        print(\"capturing frame \" + str(x) + \" from video \" + video)\n",
    "        fullname = os.path.join(path, filename)\n",
    "        cv2.imwrite(fullname, frame)\n",
    "        ret, frame = cap.read()\n",
    "        x += 1\n"
   ]
  },
  {
   "cell_type": "code",
   "execution_count": null,
   "metadata": {
    "pycharm": {
     "is_executing": true
    }
   },
   "outputs": [],
   "source": []
  }
 ],
 "metadata": {
  "kernelspec": {
   "display_name": "Python 3 (ipykernel)",
   "language": "python",
   "name": "python3"
  },
  "language_info": {
   "codemirror_mode": {
    "name": "ipython",
    "version": 3
   },
   "file_extension": ".py",
   "mimetype": "text/x-python",
   "name": "python",
   "nbconvert_exporter": "python",
   "pygments_lexer": "ipython3",
   "version": "3.9.6"
  }
 },
 "nbformat": 4,
 "nbformat_minor": 1
}