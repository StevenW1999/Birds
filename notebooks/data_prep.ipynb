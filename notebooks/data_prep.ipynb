{
 "cells": [
  {
   "cell_type": "markdown",
   "metadata": {
    "collapsed": true,
    "pycharm": {
     "name": "#%% md\n"
    }
   },
   "source": [
    "import packages"
   ]
  },
  {
   "cell_type": "code",
   "execution_count": 18,
   "metadata": {
    "pycharm": {
     "name": "#%%\n"
    }
   },
   "outputs": [],
   "source": [
    "import cv2     # for capturing videos\n",
    "import math   # for mathematical operations\n",
    "import matplotlib.pyplot as plt    # for plotting the images\n",
    "%matplotlib inline\n",
    "import pandas as pd\n",
    "from keras.preprocessing import image   # for preprocessing the images\n",
    "import numpy as np    # for mathematical operations\n",
    "from keras.utils import np_utils\n",
    "from skimage.transform import resize   # for resizing images\n",
    "from sklearn.model_selection import train_test_split\n",
    "from glob import glob\n",
    "from tqdm import tqdm\n",
    "import os\n",
    "import random\n",
    "import itertools"
   ]
  },
  {
   "cell_type": "code",
   "execution_count": 18,
   "metadata": {
    "pycharm": {
     "name": "#%%\n"
    }
   },
   "outputs": [],
   "source": []
  },
  {
   "cell_type": "code",
   "execution_count": 19,
   "metadata": {},
   "outputs": [
    {
     "data": {
      "text/plain": "                         name             class\n0  Acorn_Woodpecker_00001.mp4  Acorn_Woodpecker\n1  Acorn_Woodpecker_00002.mp4  Acorn_Woodpecker\n2  Acorn_Woodpecker_00003.mp4  Acorn_Woodpecker\n3  Acorn_Woodpecker_00004.mp4  Acorn_Woodpecker\n4  Acorn_Woodpecker_00005.mp4  Acorn_Woodpecker",
      "text/html": "<div>\n<style scoped>\n    .dataframe tbody tr th:only-of-type {\n        vertical-align: middle;\n    }\n\n    .dataframe tbody tr th {\n        vertical-align: top;\n    }\n\n    .dataframe thead th {\n        text-align: right;\n    }\n</style>\n<table border=\"1\" class=\"dataframe\">\n  <thead>\n    <tr style=\"text-align: right;\">\n      <th></th>\n      <th>name</th>\n      <th>class</th>\n    </tr>\n  </thead>\n  <tbody>\n    <tr>\n      <th>0</th>\n      <td>Acorn_Woodpecker_00001.mp4</td>\n      <td>Acorn_Woodpecker</td>\n    </tr>\n    <tr>\n      <th>1</th>\n      <td>Acorn_Woodpecker_00002.mp4</td>\n      <td>Acorn_Woodpecker</td>\n    </tr>\n    <tr>\n      <th>2</th>\n      <td>Acorn_Woodpecker_00003.mp4</td>\n      <td>Acorn_Woodpecker</td>\n    </tr>\n    <tr>\n      <th>3</th>\n      <td>Acorn_Woodpecker_00004.mp4</td>\n      <td>Acorn_Woodpecker</td>\n    </tr>\n    <tr>\n      <th>4</th>\n      <td>Acorn_Woodpecker_00005.mp4</td>\n      <td>Acorn_Woodpecker</td>\n    </tr>\n  </tbody>\n</table>\n</div>"
     },
     "execution_count": 19,
     "metadata": {},
     "output_type": "execute_result"
    }
   ],
   "source": [
    "files = os.listdir(\"../data\")\n",
    "dat = pd.DataFrame()\n",
    "list = []\n",
    "tags = []\n",
    "for f in files:\n",
    "    dir = os.listdir(\"../data/\" + f)\n",
    "    for dir_f in dir:\n",
    "        list.append(dir_f)\n",
    "        tags.append(f)\n",
    "dat[\"name\"] = list\n",
    "dat[\"class\"] = tags\n",
    "dat = dat[:-1]\n",
    "dat.head()"
   ]
  },
  {
   "cell_type": "code",
   "execution_count": 20,
   "metadata": {},
   "outputs": [],
   "source": [
    "X = dat['name']\n",
    "y = dat['class']\n",
    "\n",
    "X_train, X_test, y_train, y_test = train_test_split(X, y, test_size=0.33, random_state=42)\n",
    "\n",
    "training = pd.DataFrame()\n",
    "test = pd.DataFrame()\n",
    "training['name'] = X_train\n",
    "training['class'] = y_train\n",
    "test['name'] = X_test\n",
    "test['class'] = y_test\n",
    "\n",
    "training = training.reset_index(drop=True)\n",
    "test = test.reset_index(drop=True)"
   ]
  },
  {
   "cell_type": "code",
   "execution_count": 21,
   "metadata": {},
   "outputs": [
    {
     "ename": "KeyboardInterrupt",
     "evalue": "",
     "output_type": "error",
     "traceback": [
      "\u001B[1;31m---------------------------------------------------------------------------\u001B[0m",
      "\u001B[1;31mKeyboardInterrupt\u001B[0m                         Traceback (most recent call last)",
      "\u001B[1;32m~\\AppData\\Local\\Temp/ipykernel_10644/1166153886.py\u001B[0m in \u001B[0;36m<module>\u001B[1;34m\u001B[0m\n\u001B[0;32m      4\u001B[0m     \u001B[0mvideo\u001B[0m \u001B[1;33m=\u001B[0m \u001B[0mtraining\u001B[0m\u001B[1;33m[\u001B[0m\u001B[1;34m\"name\"\u001B[0m\u001B[1;33m]\u001B[0m\u001B[1;33m[\u001B[0m\u001B[0mi\u001B[0m\u001B[1;33m]\u001B[0m\u001B[1;33m\u001B[0m\u001B[1;33m\u001B[0m\u001B[0m\n\u001B[0;32m      5\u001B[0m     \u001B[0mcl\u001B[0m \u001B[1;33m=\u001B[0m \u001B[0mtraining\u001B[0m\u001B[1;33m[\u001B[0m\u001B[1;34m\"class\"\u001B[0m\u001B[1;33m]\u001B[0m\u001B[1;33m[\u001B[0m\u001B[0mi\u001B[0m\u001B[1;33m]\u001B[0m\u001B[1;33m\u001B[0m\u001B[1;33m\u001B[0m\u001B[0m\n\u001B[1;32m----> 6\u001B[1;33m     \u001B[0mcap\u001B[0m \u001B[1;33m=\u001B[0m \u001B[0mcv2\u001B[0m\u001B[1;33m.\u001B[0m\u001B[0mVideoCapture\u001B[0m\u001B[1;33m(\u001B[0m\u001B[1;34m\"../../data/\"\u001B[0m \u001B[1;33m+\u001B[0m \u001B[0mcl\u001B[0m \u001B[1;33m+\u001B[0m \u001B[1;34m\"/\"\u001B[0m \u001B[1;33m+\u001B[0m \u001B[0mvideo\u001B[0m\u001B[1;33m)\u001B[0m\u001B[1;33m\u001B[0m\u001B[1;33m\u001B[0m\u001B[0m\n\u001B[0m\u001B[0;32m      7\u001B[0m \u001B[1;33m\u001B[0m\u001B[0m\n\u001B[0;32m      8\u001B[0m     \u001B[0mret\u001B[0m\u001B[1;33m,\u001B[0m \u001B[0mframe\u001B[0m \u001B[1;33m=\u001B[0m \u001B[0mcap\u001B[0m\u001B[1;33m.\u001B[0m\u001B[0mread\u001B[0m\u001B[1;33m(\u001B[0m\u001B[1;33m)\u001B[0m\u001B[1;33m\u001B[0m\u001B[1;33m\u001B[0m\u001B[0m\n",
      "\u001B[1;31mKeyboardInterrupt\u001B[0m: "
     ]
    }
   ],
   "source": [
    "path = '../data_1'\n",
    "for i in range(training.shape[0]):\n",
    "    x = 0\n",
    "    video = training[\"name\"][i]\n",
    "    cl = training[\"class\"][i]\n",
    "    cap = cv2.VideoCapture(\"../../data/\" + cl + \"/\" + video)\n",
    "\n",
    "    ret, frame = cap.read()\n",
    "    while ret:\n",
    "        filename = video.split(\".\")[0] + \"_frame_\" + x + '.jpg'\n",
    "        fullname = os.path.join(path, filename)\n",
    "        cv2.imwrite(fullname, frame)\n",
    "        ret, frame = cap.read()\n",
    "        x += 1\n",
    "\n"
   ]
  },
  {
   "cell_type": "code",
   "execution_count": null,
   "metadata": {},
   "outputs": [],
   "source": []
  }
 ],
 "metadata": {
  "kernelspec": {
   "display_name": "Python 3 (ipykernel)",
   "language": "python",
   "name": "python3"
  },
  "language_info": {
   "codemirror_mode": {
    "name": "ipython",
    "version": 3
   },
   "file_extension": ".py",
   "mimetype": "text/x-python",
   "name": "python",
   "nbconvert_exporter": "python",
   "pygments_lexer": "ipython3",
   "version": "3.9.6"
  }
 },
 "nbformat": 4,
 "nbformat_minor": 1
}