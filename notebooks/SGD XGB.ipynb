{
 "cells": [
  {
   "cell_type": "code",
   "execution_count": 2,
   "id": "6b5ac885",
   "metadata": {},
   "outputs": [],
   "source": [
    "import numpy as np\n",
    "import pandas as pd\n",
    "import matplotlib.pyplot as plt\n",
    "from tqdm import tqdm\n",
    "from sklearn.linear_model import SGDClassifier\n",
    "from sklearn.metrics import accuracy_score, plot_confusion_matrix\n",
    "from xgboost import XGBClassifier\n"
   ]
  },
  {
   "cell_type": "code",
   "execution_count": 3,
   "id": "0c5b0c2b",
   "metadata": {},
   "outputs": [],
   "source": [
    "X_train = np.loadtxt('../train1.csv')\n",
    "X_test = np.loadtxt('../test1.csv')\n",
    "y_train = np.loadtxt('../y_train1.csv',dtype=object)\n",
    "y_test = np.loadtxt('../y_test1.csv',dtype=object)"
   ]
  },
  {
   "cell_type": "code",
   "execution_count": 4,
   "id": "9761f2b0",
   "metadata": {},
   "outputs": [],
   "source": [
    "from sklearn import preprocessing\n",
    "le = preprocessing.LabelEncoder()\n",
    "yy_train = le.fit_transform(y_train)\n",
    "yy_test = le.fit_transform(y_test)"
   ]
  },
  {
   "cell_type": "code",
   "execution_count": null,
   "id": "edf52a3f",
   "metadata": {},
   "outputs": [],
   "source": [
    "\n",
    "\n"
   ]
  },
  {
   "cell_type": "code",
   "execution_count": 23,
   "id": "5291533f",
   "metadata": {},
   "outputs": [],
   "source": []
  },
  {
   "cell_type": "code",
   "execution_count": 27,
   "id": "2dedf675",
   "metadata": {
    "scrolled": true
   },
   "outputs": [
    {
     "name": "stdout",
     "output_type": "stream",
     "text": [
      "[15:34:20] WARNING: C:/Users/Administrator/workspace/xgboost-win64_release_1.4.0/src/learner.cc:1095: Starting in XGBoost 1.3.0, the default evaluation metric used with the objective 'multi:softprob' was changed from 'merror' to 'mlogloss'. Explicitly set eval_metric if you'd like to restore the old behavior.\n"
     ]
    },
    {
     "data": {
      "text/plain": [
       "XGBClassifier(base_score=0.5, booster='gbtree', colsample_bylevel=1,\n",
       "              colsample_bynode=1, colsample_bytree=1, gamma=0, gpu_id=-1,\n",
       "              importance_type='gain', interaction_constraints='',\n",
       "              learning_rate=0.300000012, max_delta_step=0, max_depth=6,\n",
       "              min_child_weight=1, missing=nan, monotone_constraints='()',\n",
       "              n_estimators=100, n_jobs=16, num_parallel_tree=1,\n",
       "              objective='multi:softprob', random_state=0, reg_alpha=0,\n",
       "              reg_lambda=1, scale_pos_weight=None, subsample=1,\n",
       "              tree_method='exact', validate_parameters=1, verbosity=None)"
      ]
     },
     "execution_count": 27,
     "metadata": {},
     "output_type": "execute_result"
    }
   ],
   "source": [
    "model = XGBClassifier()\n",
    "model.fit(X_train, yy_train)"
   ]
  },
  {
   "cell_type": "code",
   "execution_count": 28,
   "id": "5520aa14",
   "metadata": {},
   "outputs": [],
   "source": [
    "y_pred = model.predict(X_test) \n",
    "\n",
    "predictions = [round(value) for value in y_pred]"
   ]
  },
  {
   "cell_type": "code",
   "execution_count": 30,
   "id": "083cdb61",
   "metadata": {},
   "outputs": [
    {
     "name": "stdout",
     "output_type": "stream",
     "text": [
      "Accuracy: 97.28%\n"
     ]
    }
   ],
   "source": [
    "accuracy = accuracy_score(yy_test, predictions) \n",
    "\n",
    "print(\"Accuracy: %.2f%%\" % (accuracy * 100.0))"
   ]
  },
  {
   "cell_type": "code",
   "execution_count": 31,
   "id": "eb5f5009",
   "metadata": {},
   "outputs": [],
   "source": [
    "model.save_model(\"../models/xgbmodel.json\")"
   ]
  },
  {
   "cell_type": "code",
   "execution_count": 5,
   "id": "9fcab109",
   "metadata": {},
   "outputs": [],
   "source": [
    "model_xgb_2 = XGBClassifier()\n",
    "model_xgb_2.load_model(\"../models/xgbmodel.json\")"
   ]
  },
  {
   "cell_type": "code",
   "execution_count": 6,
   "id": "7d4dbc3e",
   "metadata": {},
   "outputs": [],
   "source": [
    "y_pred = model_xgb_2.predict(X_test) \n",
    "\n",
    "predictions = [round(value) for value in y_pred]"
   ]
  },
  {
   "cell_type": "code",
   "execution_count": 7,
   "id": "d086fb10",
   "metadata": {},
   "outputs": [
    {
     "name": "stdout",
     "output_type": "stream",
     "text": [
      "Accuracy: 97.28%\n"
     ]
    }
   ],
   "source": [
    "accuracy = accuracy_score(yy_test, predictions) \n",
    "\n",
    "print(\"Accuracy: %.2f%%\" % (accuracy * 100.0))"
   ]
  },
  {
   "cell_type": "code",
   "execution_count": 8,
   "id": "8e7400a7",
   "metadata": {},
   "outputs": [],
   "source": [
    "SDGclass = SGDClassifier()\n",
    "SDGclass = SDGclass.fit(X_train, yy_train)\n",
    "y_pred = SDGclass.predict(X_test)\n",
    "score = SDGclass.score(X_test, yy_test)"
   ]
  },
  {
   "cell_type": "code",
   "execution_count": 9,
   "id": "29521a0a",
   "metadata": {},
   "outputs": [
    {
     "data": {
      "text/plain": [
       "0.9722642460917801"
      ]
     },
     "execution_count": 9,
     "metadata": {},
     "output_type": "execute_result"
    }
   ],
   "source": [
    "score"
   ]
  },
  {
   "cell_type": "code",
   "execution_count": 10,
   "id": "65da390d",
   "metadata": {},
   "outputs": [],
   "source": [
    "import pickle\n",
    "filename = '../models/SGD.sav'\n",
    "pickle.dump(SDGclass, open(filename, 'wb'))"
   ]
  },
  {
   "cell_type": "code",
   "execution_count": null,
   "id": "d69f8743",
   "metadata": {},
   "outputs": [],
   "source": []
  }
 ],
 "metadata": {
  "kernelspec": {
   "display_name": "PyCharm (Birds)",
   "language": "python",
   "name": "pycharm-2edd25c0"
  },
  "language_info": {
   "codemirror_mode": {
    "name": "ipython",
    "version": 3
   },
   "file_extension": ".py",
   "mimetype": "text/x-python",
   "name": "python",
   "nbconvert_exporter": "python",
   "pygments_lexer": "ipython3",
   "version": "3.9.6"
  }
 },
 "nbformat": 4,
 "nbformat_minor": 5
}
