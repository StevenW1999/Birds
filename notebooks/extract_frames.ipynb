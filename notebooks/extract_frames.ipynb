{
 "cells": [
  {
   "cell_type": "markdown",
   "metadata": {
    "collapsed": true,
    "pycharm": {
     "name": "#%% md\n"
    }
   },
   "source": [
    "import packages"
   ]
  },
  {
   "cell_type": "code",
   "execution_count": 1,
   "metadata": {
    "pycharm": {
     "name": "#%%\n"
    }
   },
   "outputs": [],
   "source": [
    "import keras\n",
    "from keras.models import Sequential\n",
    "from keras.applications.vgg16 import VGG16\n",
    "from keras.layers import Dense, InputLayer, Dropout, Flatten\n",
    "from keras.layers import Conv2D, MaxPooling2D, GlobalMaxPooling2D\n",
    "import numpy as np\n",
    "import pandas as pd\n",
    "import matplotlib.pyplot as plt\n",
    "from tqdm import tqdm\n",
    "from sklearn.model_selection import train_test_split\n",
    "import sys\n",
    "import gc\n",
    "from keras.preprocessing import image\n",
    "import os\n",
    "import h5py\n",
    "import cv2\n",
    "import datetime as dt\n",
    "from numba import jit"
   ]
  },
  {
   "cell_type": "code",
   "execution_count": 3,
   "metadata": {
    "pycharm": {
     "name": "#%%\n"
    },
    "scrolled": true
   },
   "outputs": [],
   "source": [
    "train = pd.read_csv('../train.csv')\n",
    "X = train['image']\n",
    "y = train['class']"
   ]
  },
  {
   "cell_type": "code",
   "execution_count": 4,
   "metadata": {},
   "outputs": [],
   "source": [
    "# save_path = '../hdf/train_images_data2.h5'\n",
    "# hf = h5py.File(save_path, 'r') # open a hdf5 file"
   ]
  },
  {
   "cell_type": "code",
   "execution_count": 5,
   "metadata": {},
   "outputs": [],
   "source": [
    "# y_train = pd.get_dummies(y_train)\n",
    "# y_test = pd.get_dummies(y_test)\n",
    "# X_train = X_train.reset_index(drop = True)\n",
    "# X_test = X_test.reset_index(drop = True)\n",
    "# y_train = y_train.reset_index(drop = True)\n",
    "# y_test = y_test.reset_index(drop = True)"
   ]
  },
  {
   "cell_type": "code",
   "execution_count": 9,
   "metadata": {},
   "outputs": [],
   "source": [
    "def process_data_training():\n",
    "    x = range(X.shape[0])\n",
    "    l = np.array_split(np.array(x), 100)\n",
    "    a = 0\n",
    "    for x in tqdm(l):\n",
    "        save_path = '../hdf/images_array/images_data_train_' + str(a) +'.h5'\n",
    "        hf = h5py.File(save_path, 'a')\n",
    "        for i in x: \n",
    "            filename = '../training_images2/' + X[i]\n",
    "            label = y[i]\n",
    "            img = image.load_img(filename)\n",
    "            img = image.img_to_array(img)\n",
    "            img = np.array(img)\n",
    "            img = img/255\n",
    "            dset = hf.create_dataset(\"image \" + str(i), data=img)\n",
    "            dset = hf.create_dataset(\"label \"+ str(i), data=label)\n",
    "        hf.close()\n",
    "        a+=1\n",
    "       \n"
   ]
  },
  {
   "cell_type": "code",
   "execution_count": 10,
   "metadata": {},
   "outputs": [],
   "source": [
    "@jit\n",
    "def process_data_val():\n",
    "    x = range(X_test.shape[0])\n",
    "    l = np.array_split(np.array(x), 100)\n",
    "    a = 0\n",
    "    for x in tqdm(l):\n",
    "        save_path = '../hdf/images_data_val_' + str(a) +'.h5'\n",
    "        hf = h5py.File(save_path, 'a')\n",
    "        for i in x: \n",
    "            filename = '../training_images2/' + X_test[i]\n",
    "            label = y_test[i]\n",
    "            img_f = open(filename, 'rb')\n",
    "            binary_data = img_f.read()\n",
    "            binary_data_np = np.asarray(binary_data)\n",
    "            dset = hf.create_dataset(\"image \" + str(i), data=binary_data_np)\n",
    "            dset = hf.create_dataset(\"label \"+ str(i), data=label)\n",
    "        a+=1\n",
    "\n",
    "    hf.close()\n"
   ]
  },
  {
   "cell_type": "code",
   "execution_count": 11,
   "metadata": {},
   "outputs": [
    {
     "name": "stderr",
     "output_type": "stream",
     "text": [
      "100%|██████████| 100/100 [3:43:47<00:00, 134.28s/it] \n"
     ]
    }
   ],
   "source": [
    "process_data_training()"
   ]
  },
  {
   "cell_type": "code",
   "execution_count": null,
   "metadata": {},
   "outputs": [],
   "source": [
    "process_data_val()"
   ]
  },
  {
   "cell_type": "code",
   "execution_count": null,
   "metadata": {},
   "outputs": [],
   "source": [
    "\n"
   ]
  },
  {
   "cell_type": "code",
   "execution_count": null,
   "metadata": {},
   "outputs": [],
   "source": [
    "# x = range(train.shape[0])\n",
    "# l = np.array_split(np.array(x), 100)\n",
    "# a = 0\n",
    "# for x in tqdm(l):\n",
    "#     save_path = '../hdf/images_data_' + str(a) +'.h5'\n",
    "#     hf = h5py.File(save_path, 'a')\n",
    "#     for i in x: \n",
    "#         filename = '../training_images2/' + train['image'][i]\n",
    "#         label = train['class'][i]\n",
    "#         img_f = open(filename, 'rb')\n",
    "#         binary_data = img_f.read()\n",
    "#         binary_data_np = np.asarray(binary_data)\n",
    "#         dset = hf.create_dataset(\"image \" + str(i), data=binary_data_np)\n",
    "#         dset = hf.create_dataset(\"label \"+ str(i), data=label)\n",
    "#         a+=1"
   ]
  },
  {
   "cell_type": "code",
   "execution_count": null,
   "metadata": {},
   "outputs": [],
   "source": []
  },
  {
   "cell_type": "code",
   "execution_count": null,
   "metadata": {},
   "outputs": [],
   "source": []
  },
  {
   "cell_type": "code",
   "execution_count": null,
   "metadata": {},
   "outputs": [],
   "source": []
  }
 ],
 "metadata": {
  "kernelspec": {
   "display_name": "Python 3 (ipykernel)",
   "language": "python",
   "name": "python3"
  },
  "language_info": {
   "codemirror_mode": {
    "name": "ipython",
    "version": 3
   },
   "file_extension": ".py",
   "mimetype": "text/x-python",
   "name": "python",
   "nbconvert_exporter": "python",
   "pygments_lexer": "ipython3",
   "version": "3.9.6"
  }
 },
 "nbformat": 4,
 "nbformat_minor": 1
}